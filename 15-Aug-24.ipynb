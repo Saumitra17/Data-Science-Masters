{
 "cells": [
  {
   "cell_type": "markdown",
   "id": "cab211f5-582b-4611-884a-1423beaf29f0",
   "metadata": {},
   "source": [
    "# Restart"
   ]
  },
  {
   "cell_type": "code",
   "execution_count": 1,
   "id": "aaba2203-70d1-4bc8-bf16-68b4283d865b",
   "metadata": {},
   "outputs": [
    {
     "name": "stdout",
     "output_type": "stream",
     "text": [
      "3\n"
     ]
    }
   ],
   "source": [
    "print(1+2)"
   ]
  },
  {
   "cell_type": "code",
   "execution_count": 2,
   "id": "63b77563-db62-4844-a225-bead506d8b54",
   "metadata": {},
   "outputs": [],
   "source": [
    "name ='saumitra'"
   ]
  },
  {
   "cell_type": "code",
   "execution_count": 4,
   "id": "43eaabb3-a636-46bb-b56d-5604fc527424",
   "metadata": {},
   "outputs": [
    {
     "name": "stdout",
     "output_type": "stream",
     "text": [
      "<class 'str'>\n"
     ]
    }
   ],
   "source": [
    "print(type(name))"
   ]
  },
  {
   "cell_type": "code",
   "execution_count": 5,
   "id": "44482808-bd97-422a-a941-4ae9006675b1",
   "metadata": {},
   "outputs": [],
   "source": [
    "a= True"
   ]
  },
  {
   "cell_type": "code",
   "execution_count": 6,
   "id": "7ba63ad2-ec23-41ee-97bf-75ae00e46c60",
   "metadata": {},
   "outputs": [
    {
     "data": {
      "text/plain": [
       "True"
      ]
     },
     "execution_count": 6,
     "metadata": {},
     "output_type": "execute_result"
    }
   ],
   "source": [
    "a"
   ]
  },
  {
   "cell_type": "code",
   "execution_count": 9,
   "id": "271f6996-13c8-4697-95ef-0db301915e73",
   "metadata": {},
   "outputs": [],
   "source": [
    "a= True"
   ]
  },
  {
   "cell_type": "code",
   "execution_count": 8,
   "id": "46f64303-981a-43f3-9f76-15af66f30f29",
   "metadata": {},
   "outputs": [
    {
     "data": {
      "text/plain": [
       "bool"
      ]
     },
     "execution_count": 8,
     "metadata": {},
     "output_type": "execute_result"
    }
   ],
   "source": [
    "type(True)"
   ]
  },
  {
   "cell_type": "code",
   "execution_count": 10,
   "id": "0dd59a72-ff02-4a05-a342-256d2914a9c8",
   "metadata": {},
   "outputs": [],
   "source": [
    "i =23"
   ]
  },
  {
   "cell_type": "code",
   "execution_count": 12,
   "id": "5f24f3b5-f92e-43b2-9013-aa54e5e257ea",
   "metadata": {},
   "outputs": [],
   "source": [
    "b = str(i)"
   ]
  },
  {
   "cell_type": "code",
   "execution_count": 13,
   "id": "45e0e359-c3c0-4729-b9d1-85571ca20555",
   "metadata": {},
   "outputs": [
    {
     "data": {
      "text/plain": [
       "str"
      ]
     },
     "execution_count": 13,
     "metadata": {},
     "output_type": "execute_result"
    }
   ],
   "source": [
    "type(b)"
   ]
  },
  {
   "cell_type": "code",
   "execution_count": 14,
   "id": "02ec786e-729e-4dd8-8ee8-8f0a814e9612",
   "metadata": {},
   "outputs": [],
   "source": [
    "section = \"2\""
   ]
  },
  {
   "cell_type": "code",
   "execution_count": 15,
   "id": "9fc81879-160a-45b9-83c0-229e84343cfa",
   "metadata": {},
   "outputs": [
    {
     "data": {
      "text/plain": [
       "str"
      ]
     },
     "execution_count": 15,
     "metadata": {},
     "output_type": "execute_result"
    }
   ],
   "source": [
    "type(section)"
   ]
  },
  {
   "cell_type": "code",
   "execution_count": 18,
   "id": "a5480dc3-1e9d-45ec-a620-ebf4279c0ce8",
   "metadata": {},
   "outputs": [],
   "source": [
    "c=int(section)"
   ]
  },
  {
   "cell_type": "code",
   "execution_count": 19,
   "id": "b68f729a-415c-4a41-985d-0ee9e7b1a497",
   "metadata": {},
   "outputs": [
    {
     "data": {
      "text/plain": [
       "2"
      ]
     },
     "execution_count": 19,
     "metadata": {},
     "output_type": "execute_result"
    }
   ],
   "source": [
    "c"
   ]
  },
  {
   "cell_type": "code",
   "execution_count": 20,
   "id": "9f024fbb-d9cf-4836-8bca-313e0ec5700b",
   "metadata": {},
   "outputs": [
    {
     "data": {
      "text/plain": [
       "6"
      ]
     },
     "execution_count": 20,
     "metadata": {},
     "output_type": "execute_result"
    }
   ],
   "source": [
    "c+4"
   ]
  },
  {
   "cell_type": "code",
   "execution_count": 22,
   "id": "6a041196-0dea-4d3f-8d68-25171c2e5ab8",
   "metadata": {},
   "outputs": [],
   "source": [
    "a=int('123')"
   ]
  },
  {
   "cell_type": "code",
   "execution_count": 23,
   "id": "5703a092-8ac8-4ff5-a73c-2ae95c0c78bf",
   "metadata": {},
   "outputs": [
    {
     "data": {
      "text/plain": [
       "int"
      ]
     },
     "execution_count": 23,
     "metadata": {},
     "output_type": "execute_result"
    }
   ],
   "source": [
    "type(a)"
   ]
  },
  {
   "cell_type": "code",
   "execution_count": 5,
   "id": "54fd59b9-e52a-4b06-8c8a-2103c62d4eee",
   "metadata": {},
   "outputs": [],
   "source": [
    "age=35"
   ]
  },
  {
   "cell_type": "code",
   "execution_count": 25,
   "id": "462c6572-b9ce-409d-986c-0dad7cf4c719",
   "metadata": {},
   "outputs": [
    {
     "name": "stdout",
     "output_type": "stream",
     "text": [
      "my age is : 35\n"
     ]
    }
   ],
   "source": [
    "print('my age is :',age)"
   ]
  },
  {
   "cell_type": "code",
   "execution_count": 27,
   "id": "50c2a73f-da9b-41d5-859a-a6dc1f1d47fe",
   "metadata": {},
   "outputs": [
    {
     "ename": "SyntaxError",
     "evalue": "invalid syntax (384949082.py, line 1)",
     "output_type": "error",
     "traceback": [
      "\u001b[0;36m  Cell \u001b[0;32mIn[27], line 1\u001b[0;36m\u001b[0m\n\u001b[0;31m    print(f 'my age is : {age}')\u001b[0m\n\u001b[0m            ^\u001b[0m\n\u001b[0;31mSyntaxError\u001b[0m\u001b[0;31m:\u001b[0m invalid syntax\n"
     ]
    }
   ],
   "source": [
    "print(f 'my age is : {age}')"
   ]
  },
  {
   "cell_type": "code",
   "execution_count": 4,
   "id": "24babef2-a0b9-4a9f-a4d4-0ea799a4d808",
   "metadata": {},
   "outputs": [],
   "source": [
    "name = 'saumitra'"
   ]
  },
  {
   "cell_type": "code",
   "execution_count": 30,
   "id": "813b58b7-2a6f-421a-b737-1f8a697fe4ba",
   "metadata": {},
   "outputs": [
    {
     "name": "stdout",
     "output_type": "stream",
     "text": [
      "my name is saumitra and my age is 35\n"
     ]
    }
   ],
   "source": [
    "print('my name is {} and my age is {}'.format(name,age))"
   ]
  },
  {
   "cell_type": "code",
   "execution_count": 31,
   "id": "d9dfd678-38a0-4ab3-97f7-01e179136e65",
   "metadata": {},
   "outputs": [
    {
     "name": "stdout",
     "output_type": "stream",
     "text": [
      "my name is 35 and my age is saumitra\n"
     ]
    }
   ],
   "source": [
    "print('my name is {} and my age is {}'.format(age ,name))"
   ]
  },
  {
   "cell_type": "code",
   "execution_count": 32,
   "id": "a024beaa-2640-4198-8177-85df710e3fef",
   "metadata": {},
   "outputs": [
    {
     "name": "stdout",
     "output_type": "stream",
     "text": [
      "my name is saumitra and my age is 35\n"
     ]
    }
   ],
   "source": [
    "print('my name is {x} and my age is {y}'.format(y=age ,x=name))"
   ]
  },
  {
   "cell_type": "code",
   "execution_count": 1,
   "id": "7d951179-a6b1-4f34-b986-6b336a08e24b",
   "metadata": {},
   "outputs": [],
   "source": [
    "btech_degree = \"NIT Allahabad\"\n",
    "masters_degree = \"IIM Udaipur\""
   ]
  },
  {
   "cell_type": "code",
   "execution_count": 7,
   "id": "643eeca5-6d43-4ab5-9bc9-44bc19441b2c",
   "metadata": {},
   "outputs": [
    {
     "name": "stdout",
     "output_type": "stream",
     "text": [
      " My name is saumitra and my age is 35. I completed my BTech degree from NIT Allahabad and master's degree from IIM Udaipur\n"
     ]
    }
   ],
   "source": [
    "print(\" My name is {} and my age is {}. I completed my BTech degree from {} and master's degree from {}\".format( name, age, btech_degree, masters_degree))"
   ]
  },
  {
   "cell_type": "code",
   "execution_count": 19,
   "id": "cfd3b24c-08a2-4676-80b7-9a7c7702f623",
   "metadata": {},
   "outputs": [
    {
     "name": "stdout",
     "output_type": "stream",
     "text": [
      "My name is saumitra and my age is 35. I completed my \"graduation degree\" from NIT Allahabad and master's degree from IIM Udaipur\n"
     ]
    }
   ],
   "source": [
    "print(f\"My name is {name} and my age is {age}. I completed my \\\"graduation degree\\\" from {btech_degree} and master's degree from {masters_degree}\")"
   ]
  },
  {
   "cell_type": "code",
   "execution_count": 26,
   "id": "ac05e549-b117-4a94-8b8a-9103d4c3a8fa",
   "metadata": {},
   "outputs": [
    {
     "name": "stdout",
     "output_type": "stream",
     "text": [
      "master's \"degree\"\n"
     ]
    }
   ],
   "source": [
    "print(\"master's \\\"degree\\\"\")"
   ]
  },
  {
   "cell_type": "code",
   "execution_count": 27,
   "id": "d7df9181-48f3-4586-b828-35264a80530e",
   "metadata": {},
   "outputs": [
    {
     "name": "stdin",
     "output_type": "stream",
     "text": [
      "Enter the name Saumitra Kumar\n"
     ]
    }
   ],
   "source": [
    "name = input(\"Enter the name\")"
   ]
  },
  {
   "cell_type": "code",
   "execution_count": 28,
   "id": "439ecbf1-3954-4b15-a6c0-dcc4fa89191d",
   "metadata": {},
   "outputs": [
    {
     "data": {
      "text/plain": [
       "'Saumitra Kumar'"
      ]
     },
     "execution_count": 28,
     "metadata": {},
     "output_type": "execute_result"
    }
   ],
   "source": [
    "name"
   ]
  },
  {
   "cell_type": "code",
   "execution_count": 29,
   "id": "ffe7ca13-90b2-48b0-9c0d-4553abece27b",
   "metadata": {},
   "outputs": [
    {
     "name": "stdin",
     "output_type": "stream",
     "text": [
      "Enter you age 35\n"
     ]
    }
   ],
   "source": [
    "age = input(\"Enter you age\")"
   ]
  },
  {
   "cell_type": "code",
   "execution_count": 30,
   "id": "764fe15c-3749-4695-b97f-e6153789133c",
   "metadata": {},
   "outputs": [
    {
     "data": {
      "text/plain": [
       "str"
      ]
     },
     "execution_count": 30,
     "metadata": {},
     "output_type": "execute_result"
    }
   ],
   "source": [
    "type(age)"
   ]
  },
  {
   "cell_type": "code",
   "execution_count": 31,
   "id": "67a31c39-b6c2-4595-a967-9a80c574fce8",
   "metadata": {},
   "outputs": [
    {
     "data": {
      "text/plain": [
       "'35'"
      ]
     },
     "execution_count": 31,
     "metadata": {},
     "output_type": "execute_result"
    }
   ],
   "source": [
    "age"
   ]
  },
  {
   "cell_type": "code",
   "execution_count": 32,
   "id": "47764ece-c66b-4db3-9d53-74d6a965fb9f",
   "metadata": {},
   "outputs": [
    {
     "name": "stdin",
     "output_type": "stream",
     "text": [
      "Enter your age 36\n"
     ]
    }
   ],
   "source": [
    "Age = int(input(\"Enter your age\"))"
   ]
  },
  {
   "cell_type": "code",
   "execution_count": 33,
   "id": "1e4aa788-c268-4ec0-8c77-ba7f026f4b6e",
   "metadata": {},
   "outputs": [
    {
     "data": {
      "text/plain": [
       "int"
      ]
     },
     "execution_count": 33,
     "metadata": {},
     "output_type": "execute_result"
    }
   ],
   "source": [
    "type(Age)"
   ]
  },
  {
   "cell_type": "code",
   "execution_count": 45,
   "id": "2831c2ab-c161-427f-8a10-bf0cf7cf40af",
   "metadata": {},
   "outputs": [
    {
     "name": "stdin",
     "output_type": "stream",
     "text": [
      "Enter the age 15\n"
     ]
    },
    {
     "name": "stdout",
     "output_type": "stream",
     "text": [
      "Pass\n"
     ]
    }
   ],
   "source": [
    "new_age = int(input(\"Enter the age\"))\n",
    "if new_age >= 18:\n",
    "    if new_age > 45:\n",
    "        print (\"young at heart\")\n",
    "    else:\n",
    "        print(\"You are young blood\")\n",
    "else:\n",
    "    print(\"Pass\")"
   ]
  },
  {
   "cell_type": "code",
   "execution_count": 4,
   "id": "608eb8e6-248e-4f12-9f8f-f06025a9704d",
   "metadata": {},
   "outputs": [
    {
     "name": "stdin",
     "output_type": "stream",
     "text": [
      "Enter the age 50\n"
     ]
    },
    {
     "name": "stdout",
     "output_type": "stream",
     "text": [
      "you are youg at heart\n"
     ]
    }
   ],
   "source": [
    "MyAge =int(input(\"Enter the age\"))\n",
    "if MyAge >=18 and MyAge <= 45:\n",
    "    print(\"you are young blood\")\n",
    "else:\n",
    "    print(\"you are youg at heart\")\n",
    "\n"
   ]
  },
  {
   "cell_type": "code",
   "execution_count": null,
   "id": "1a1a2960-6732-45b5-afe7-03c0138349af",
   "metadata": {},
   "outputs": [],
   "source": [
    "MyAge =int(input(\"Enter the age\"))    "
   ]
  }
 ],
 "metadata": {
  "kernelspec": {
   "display_name": "Python 3 (ipykernel)",
   "language": "python",
   "name": "python3"
  },
  "language_info": {
   "codemirror_mode": {
    "name": "ipython",
    "version": 3
   },
   "file_extension": ".py",
   "mimetype": "text/x-python",
   "name": "python",
   "nbconvert_exporter": "python",
   "pygments_lexer": "ipython3",
   "version": "3.10.8"
  }
 },
 "nbformat": 4,
 "nbformat_minor": 5
}
